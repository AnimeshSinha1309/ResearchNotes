{
  "nbformat": 4,
  "nbformat_minor": 0,
  "metadata": {
    "colab": {
      "name": "E-Cell Approximate Algorithms Contest",
      "provenance": [],
      "toc_visible": true
    },
    "kernelspec": {
      "name": "python3",
      "display_name": "Python 3"
    },
    "accelerator": "GPU"
  },
  "cells": [
    {
      "cell_type": "markdown",
      "metadata": {
        "id": "px5k8X2B7SKA"
      },
      "source": [
        "# E-Cell Kaizen Challenge 2020"
      ]
    },
    {
      "cell_type": "markdown",
      "metadata": {
        "id": "_-x67S51DzlY"
      },
      "source": [
        "<img src=\"https://miro.medium.com/max/500/1*kzso1Ojfc8c0moD2bIs_wQ.jpeg\" height=150/>\n",
        "<img src=\"https://ecell.iiit.ac.in/assets/imgs/ecell-logo.png\" height=150/>\n",
        "<img src=\"https://i.imgur.com/e57rpKz.png\" height=150/>\n"
      ]
    },
    {
      "cell_type": "markdown",
      "metadata": {
        "id": "RXaUy-Y-7W3E"
      },
      "source": [
        "This notebook is a solution to the **Optimization Challenge in the E-Cell Kaizen**. This notebook is an introduction to using **Gradient Descent to optimize inputs**.\n",
        "\n",
        "Since we have a Convex Optimization problem (Essentially a parabola in n-dimentions), we are hopeful that the Gradient descent algorithm will give us a good result."
      ]
    },
    {
      "cell_type": "markdown",
      "metadata": {
        "id": "wJfAeexo-1yZ"
      },
      "source": [
        "Solution Author: \n",
        "* [Animesh Sinha](http://researchweb.iiit.ac.in/~animesh.sinha) (<animesh.sinha@research.iiit.ac.in>)\n",
        "\n",
        "Problem Authors: \n",
        "* [Garuang Tandon](http://web.iiit.ac.in/~gaurang.tandon) (<gaurang.tandon@students.iiit.ac.in>)\n",
        "* [Kanish Anand](http://web.iiit.ac.in/~kanish.anand) (<kanish.anand@students.iiit.ac.in>)\n",
        "* [Arpan Dasgupta](http://researchweb.iiit.ac.in/~arpan.dasgupta) (<arpan.dasgupta@research.iiit.ac.in>)\n",
        "* [Nikhil Chandak](http://researchweb.iiit.ac.in/~nikhil.chandak) (<nikhil.chandak@research.iiit.ac.in>)\n",
        "* [Shashwat Goel](http://researchweb.iiit.ac.in/~shashwat.goel) (<shashwat.goel@research.iiit.ac.in>)\n",
        "* [Yoogottam Khandelwal](http://web.iiit.ac.in/~yoogottam.khandelwal) (<yoogottam.khandelwal@students.iiit.ac.in>)\n"
      ]
    },
    {
      "cell_type": "markdown",
      "metadata": {
        "id": "rD-MKVLg7NKP"
      },
      "source": [
        "# Setting up the Data and Packages"
      ]
    },
    {
      "cell_type": "markdown",
      "metadata": {
        "id": "5a3jDCuVzEqN"
      },
      "source": [
        "## Importing Packages\n",
        "\n",
        "Let's start by importing all the standard packages we will need for manipulating and plotting the data, setup the styles for it.\n",
        "\n",
        "We also import PyTorch which we will use for performing Gradient Descent.\n",
        "\n",
        "If you are running this on your local machine, please run:\n",
        "`python -m pip install numpy matplotlib seaborn pandas torch tqdm`"
      ]
    },
    {
      "cell_type": "code",
      "metadata": {
        "id": "joR8vTX3e29d"
      },
      "source": [
        "import numpy as np\n",
        "from matplotlib import pyplot as plt\n",
        "import seaborn as sns\n",
        "import pandas as pd\n",
        "\n",
        "import torch\n",
        "import sklearn\n",
        "import tensorflow as tf\n",
        "import tqdm\n",
        "\n",
        "import os\n",
        "import math\n",
        "import re\n",
        "\n",
        "plt.style.use('ggplot')\n",
        "DEVICE = 'cpu'"
      ],
      "execution_count": 1,
      "outputs": []
    },
    {
      "cell_type": "markdown",
      "metadata": {
        "id": "WyPIsj6gz5J-"
      },
      "source": [
        "We are connecting our Google Drive to get the input files. Please delete the first 2 lines if you are using a local file. Change the PROJECT_DIR to the directory where your files are. You can change the file name here and try this our for all the different files in the input set."
      ]
    },
    {
      "cell_type": "code",
      "metadata": {
        "id": "zhzoZ3LHftOG",
        "outputId": "a3b7af9a-4d23-4038-fa83-4da15a629c1c",
        "colab": {
          "base_uri": "https://localhost:8080/",
          "height": 53
        }
      },
      "source": [
        "from google.colab import drive\n",
        "drive.mount('/content/gdrive')\n",
        "PROJECT_DIR = '/content/gdrive/My Drive/Scratch Space/ecell-contest'\n",
        "FILE_NAME = 'ecell_input_random_2'"
      ],
      "execution_count": 2,
      "outputs": [
        {
          "output_type": "stream",
          "text": [
            "Drive already mounted at /content/gdrive; to attempt to forcibly remount, call drive.mount(\"/content/gdrive\", force_remount=True).\n"
          ],
          "name": "stdout"
        }
      ]
    },
    {
      "cell_type": "markdown",
      "metadata": {
        "id": "kj36Z7DO1Y6k"
      },
      "source": [
        "## Reading in the Data"
      ]
    },
    {
      "cell_type": "code",
      "metadata": {
        "id": "4Exu92kAhDRP",
        "outputId": "937adf0a-76ac-4914-d454-b7344390c1a1",
        "colab": {
          "base_uri": "https://localhost:8080/",
          "height": 1000
        }
      },
      "source": [
        "class Graph:\n",
        "\n",
        "    def __init__(self, path):\n",
        "        with open(os.path.join(PROJECT_DIR, path)) as f:\n",
        "            data = f.readlines()\n",
        "            self.n = int(data[0].strip())\n",
        "            self.lim, self.val = zip(*list(map(\n",
        "                lambda x: list(map(int, x.strip().split())), data[1:self.n+1])))\n",
        "            self.var = np.array(list(map(\n",
        "                lambda x: list(map(int, x.strip().split(' '))), \n",
        "                data[self.n + 1: 2 * self.n + 1])))\n",
        "            self.val = torch.tensor(self.val).to(DEVICE).float()\n",
        "            self.lim = torch.tensor(self.lim).to(DEVICE).float()\n",
        "            self.var = torch.tensor(self.var).to(DEVICE).float()\n",
        "\n",
        "\n",
        "    def __str__(self):\n",
        "        return '\\n'.join([str(self.n), str(self.val),\n",
        "                          str(self.lim), str(self.var)])\n",
        "        \n",
        "    def heatmap(self):\n",
        "        sns.heatmap(self.var.detach().cpu().numpy())\n",
        "        plt.show()\n",
        "\n",
        "g = Graph('%s.txt'%(FILE_NAME))\n",
        "print(g)\n",
        "g.heatmap()"
      ],
      "execution_count": 3,
      "outputs": [
        {
          "output_type": "stream",
          "text": [
            "1000\n",
            "tensor([8356., 8365., 7648., 7678., 7773., 7642., 7821., 8365., 7961., 8193.,\n",
            "        8346., 7845., 7921., 7857., 8409., 8039., 7700., 8458., 7981., 7921.,\n",
            "        8168., 7744., 8445., 8166., 7628., 8256., 7524., 7807., 8172., 7503.,\n",
            "        7821., 7534., 7825., 7750., 8318., 7750., 8114., 7663., 8485., 8154.,\n",
            "        8068., 8277., 8390., 7919., 7938., 8332., 8154., 8160., 7737., 7974.,\n",
            "        7770., 8421., 7790., 7632., 8104., 7576., 8076., 7644., 8127., 7907.,\n",
            "        8175., 7703., 7674., 8187., 7963., 7656., 8457., 8498., 8352., 8020.,\n",
            "        7796., 7506., 7639., 8217., 7594., 7711., 8242., 7668., 8159., 7827.,\n",
            "        8207., 7735., 7750., 8099., 7552., 8437., 7904., 8410., 7975., 8191.,\n",
            "        7630., 7909., 7506., 7978., 7623., 7977., 7859., 7682., 8135., 7591.,\n",
            "        8089., 7916., 7851., 8417., 7523., 7966., 7699., 8216., 7642., 7751.,\n",
            "        7569., 7594., 8320., 8228., 7937., 7713., 7726., 7899., 7835., 8284.,\n",
            "        7803., 8393., 8315., 7587., 7682., 7722., 8256., 7870., 8164., 7911.,\n",
            "        7796., 8007., 8443., 8291., 8101., 7516., 8014., 7595., 7707., 8475.,\n",
            "        7711., 7521., 8394., 7733., 8370., 7847., 8458., 8189., 7949., 8058.,\n",
            "        7933., 8144., 7673., 8465., 7803., 7960., 8326., 7671., 7753., 8466.,\n",
            "        7928., 7789., 7666., 8476., 8337., 7856., 8298., 8407., 7929., 7541.,\n",
            "        8000., 8437., 7863., 7925., 8393., 8239., 7584., 7896., 7885., 8056.,\n",
            "        7784., 7681., 8102., 8244., 8458., 7643., 8167., 7664., 8377., 7835.,\n",
            "        7860., 8280., 8292., 7575., 8117., 7588., 7733., 8173., 7856., 7745.,\n",
            "        8082., 7652., 7657., 8468., 7785., 7993., 7566., 7970., 7637., 7916.,\n",
            "        8367., 7845., 7964., 7814., 8315., 8324., 7828., 7834., 8172., 7709.,\n",
            "        7793., 8484., 8165., 8409., 8189., 7746., 8018., 7534., 7799., 7992.,\n",
            "        8478., 7699., 7862., 7671., 8024., 8181., 8273., 8057., 8308., 8431.,\n",
            "        7669., 7931., 8268., 7859., 8384., 8370., 7737., 8357., 8482., 8132.,\n",
            "        7597., 8202., 8167., 8499., 7914., 7850., 8295., 8462., 8126., 7818.,\n",
            "        8052., 7870., 8136., 7577., 8444., 8312., 7902., 7791., 8273., 8424.,\n",
            "        8408., 8270., 8245., 8455., 8242., 8380., 8341., 7962., 8356., 7974.,\n",
            "        8128., 8411., 7990., 8290., 7681., 7638., 8177., 7671., 7519., 8293.,\n",
            "        8280., 7934., 7802., 7977., 8315., 7837., 8428., 7663., 7638., 7869.,\n",
            "        7545., 7979., 8296., 7644., 7656., 8457., 7798., 8437., 8167., 7638.,\n",
            "        8245., 8115., 7602., 7969., 7610., 8131., 7535., 8068., 7949., 7836.,\n",
            "        7528., 7731., 7874., 7807., 8152., 8403., 8491., 7949., 8175., 8214.,\n",
            "        8256., 7821., 7643., 7811., 8482., 8078., 8131., 8217., 7857., 7925.,\n",
            "        8350., 7595., 8035., 8123., 7961., 7875., 7560., 7887., 8466., 7676.,\n",
            "        7536., 7836., 7753., 7861., 8268., 7809., 8304., 7647., 8138., 7739.,\n",
            "        7987., 8196., 7500., 7941., 7972., 7792., 7561., 8365., 8181., 8115.,\n",
            "        7891., 7946., 8209., 8034., 7553., 8327., 7576., 7969., 7795., 8232.,\n",
            "        8408., 8465., 8152., 8473., 7934., 8352., 8393., 8211., 8080., 8138.,\n",
            "        8207., 8055., 8177., 8050., 8123., 7619., 8496., 7688., 8103., 7549.,\n",
            "        7939., 8052., 7697., 8122., 7696., 8292., 7604., 7566., 7559., 7633.,\n",
            "        7777., 8403., 7525., 8109., 8132., 7545., 7749., 8282., 8050., 8105.,\n",
            "        7854., 7529., 7932., 8120., 7591., 8363., 8195., 7831., 7736., 8229.,\n",
            "        8479., 8129., 8251., 7555., 8004., 7927., 8246., 8197., 8432., 7858.,\n",
            "        7949., 7580., 7866., 7743., 7541., 7659., 8316., 8438., 8079., 8057.,\n",
            "        7842., 7821., 8320., 7764., 8214., 7963., 8033., 8496., 8455., 8381.,\n",
            "        7781., 7896., 7708., 7853., 7516., 7749., 8084., 7946., 8468., 8345.,\n",
            "        8213., 8033., 8042., 8024., 7647., 8373., 8324., 8405., 7791., 7698.,\n",
            "        7668., 8166., 8208., 7726., 7701., 7546., 8260., 8349., 8298., 7677.,\n",
            "        7656., 7943., 8198., 8202., 8106., 8487., 7848., 8096., 7953., 7921.,\n",
            "        8084., 7758., 7547., 7834., 8360., 8361., 8442., 8187., 8151., 7818.,\n",
            "        7788., 8220., 8147., 7572., 7638., 7635., 8151., 7564., 7690., 8424.,\n",
            "        8099., 7947., 7586., 7679., 7711., 8184., 7992., 7706., 7910., 8120.,\n",
            "        7652., 8460., 8338., 7691., 8302., 7959., 7778., 8131., 7919., 7982.,\n",
            "        8187., 7700., 8451., 7889., 7875., 7788., 7953., 7830., 8151., 8199.,\n",
            "        8206., 7732., 7943., 7918., 8243., 8373., 8257., 8490., 7979., 7947.,\n",
            "        7576., 7571., 8172., 7699., 8493., 7654., 8246., 7561., 7820., 7931.,\n",
            "        7570., 7992., 7566., 8414., 7739., 7970., 7594., 7724., 7823., 7968.,\n",
            "        7512., 7894., 7578., 7827., 8126., 7961., 7942., 8403., 8315., 7934.,\n",
            "        8366., 8250., 7635., 7605., 8278., 7965., 8075., 7738., 8195., 7551.,\n",
            "        8204., 7896., 7654., 8154., 7994., 7903., 7872., 8199., 8006., 7846.,\n",
            "        7947., 8264., 7550., 7555., 8448., 8256., 7808., 8297., 8331., 8002.,\n",
            "        8109., 7874., 7937., 8369., 8448., 8417., 8216., 7606., 7562., 7700.,\n",
            "        8458., 7851., 7988., 8298., 8169., 8142., 8084., 8449., 7969., 8464.,\n",
            "        7531., 8000., 8441., 8393., 7647., 8203., 7929., 7940., 8082., 8425.,\n",
            "        7727., 7718., 8463., 8022., 8484., 7727., 8246., 8332., 8214., 8189.,\n",
            "        8007., 7846., 8326., 7732., 8214., 7848., 7602., 7633., 7923., 8066.,\n",
            "        8331., 7992., 8401., 8452., 7547., 8355., 7913., 8370., 8487., 7526.,\n",
            "        8138., 7521., 7820., 7685., 8310., 8341., 7734., 8406., 7846., 7938.,\n",
            "        7687., 7828., 7993., 8029., 8180., 8060., 8119., 7939., 7926., 7872.,\n",
            "        7875., 7755., 8426., 7934., 7897., 7855., 8356., 8375., 7762., 8399.,\n",
            "        7838., 8140., 7919., 8086., 7893., 7960., 8051., 8258., 7755., 8247.,\n",
            "        7945., 8428., 7976., 8219., 8086., 7869., 7955., 8071., 7968., 7599.,\n",
            "        7994., 7819., 8155., 8020., 8459., 7753., 8250., 7583., 8172., 8153.,\n",
            "        7609., 8372., 7911., 8320., 8479., 7930., 8359., 8017., 8326., 7614.,\n",
            "        8184., 8378., 8047., 7848., 7643., 7666., 7903., 7698., 8360., 7573.,\n",
            "        7816., 8500., 8443., 7879., 8434., 7742., 8360., 8241., 7650., 7504.,\n",
            "        7970., 8047., 8088., 7566., 7642., 8475., 7524., 8133., 8371., 7925.,\n",
            "        7694., 7611., 7666., 7649., 7820., 7800., 7514., 7542., 8472., 7930.,\n",
            "        8130., 8072., 8260., 7810., 8097., 7624., 8282., 7725., 7967., 8455.,\n",
            "        8409., 7767., 8292., 8407., 7608., 8067., 7621., 8272., 8223., 7701.,\n",
            "        7697., 7991., 8441., 8117., 8280., 8384., 8016., 7802., 8341., 7950.,\n",
            "        7734., 7567., 8345., 8427., 7801., 8077., 8333., 7668., 8283., 8370.,\n",
            "        8237., 8442., 8094., 8440., 7641., 7573., 8287., 7921., 7859., 7698.,\n",
            "        8356., 8040., 7723., 7651., 7682., 8450., 8275., 8361., 8324., 7993.,\n",
            "        8070., 7910., 7586., 8177., 8060., 8296., 7531., 8294., 8233., 8451.,\n",
            "        8157., 7714., 7980., 7989., 7755., 7838., 8118., 8061., 8461., 8340.,\n",
            "        8304., 8125., 7851., 7969., 8245., 7879., 8200., 8022., 7859., 8054.,\n",
            "        7873., 8320., 7521., 7885., 7808., 8001., 8049., 7516., 8425., 8174.,\n",
            "        7786., 8260., 7836., 8046., 8483., 8500., 7873., 8226., 8389., 7565.,\n",
            "        7524., 8189., 8262., 7663., 7691., 8236., 8080., 8343., 7967., 8492.,\n",
            "        8060., 7684., 7689., 8207., 8211., 8465., 8218., 8500., 7859., 8356.,\n",
            "        8190., 7907., 8278., 8065., 8209., 7574., 8427., 8391., 8359., 8384.,\n",
            "        7558., 8496., 7691., 7755., 8347., 7670., 7892., 7685., 7707., 8295.,\n",
            "        8187., 7684., 8317., 7919., 7862., 8436., 8341., 8387., 7805., 8463.,\n",
            "        8442., 7878., 7900., 8384., 7503., 8403., 7736., 8185., 8042., 8229.,\n",
            "        7906., 7513., 8165., 8158., 8231., 8311., 7633., 7577., 7942., 8020.,\n",
            "        7519., 8016., 8390., 7808., 8495., 7524., 8271., 7526., 7818., 7594.,\n",
            "        8185., 8292., 8284., 7540., 7710., 7861., 8172., 7674., 8268., 8182.,\n",
            "        8090., 8042., 7624., 7676., 8132., 8061., 8057., 8324., 8102., 7756.])\n",
            "tensor([2., 2., 3., 2., 1., 5., 3., 2., 3., 4., 3., 5., 3., 5., 2., 4., 2., 1.,\n",
            "        5., 2., 1., 1., 2., 3., 1., 5., 1., 5., 1., 4., 2., 1., 1., 1., 1., 1.,\n",
            "        3., 3., 4., 5., 4., 2., 5., 5., 3., 3., 2., 2., 2., 2., 5., 5., 1., 1.,\n",
            "        5., 4., 5., 1., 3., 5., 4., 2., 3., 2., 3., 5., 1., 4., 4., 1., 2., 2.,\n",
            "        5., 2., 3., 1., 5., 3., 1., 5., 5., 2., 4., 5., 2., 1., 1., 1., 5., 1.,\n",
            "        4., 2., 5., 4., 4., 5., 3., 4., 5., 1., 5., 1., 3., 2., 4., 3., 4., 4.,\n",
            "        2., 5., 3., 5., 4., 4., 3., 2., 5., 5., 3., 1., 1., 2., 2., 4., 1., 2.,\n",
            "        3., 5., 4., 1., 1., 1., 4., 5., 3., 5., 2., 4., 1., 5., 1., 1., 1., 4.,\n",
            "        3., 3., 3., 2., 2., 5., 5., 4., 4., 5., 3., 4., 3., 3., 5., 3., 4., 2.,\n",
            "        4., 3., 1., 1., 2., 4., 5., 3., 3., 4., 1., 5., 4., 4., 4., 2., 4., 5.,\n",
            "        2., 2., 5., 3., 2., 4., 5., 4., 4., 1., 4., 1., 2., 4., 5., 3., 1., 3.,\n",
            "        1., 5., 2., 5., 1., 2., 3., 4., 3., 2., 2., 1., 4., 5., 4., 1., 4., 2.,\n",
            "        1., 2., 1., 3., 5., 1., 4., 2., 4., 4., 2., 5., 2., 5., 5., 4., 1., 4.,\n",
            "        5., 4., 2., 4., 5., 3., 4., 3., 4., 1., 2., 1., 4., 4., 4., 1., 1., 1.,\n",
            "        4., 1., 3., 2., 4., 5., 3., 5., 3., 1., 4., 3., 2., 3., 5., 3., 4., 2.,\n",
            "        5., 2., 4., 3., 5., 4., 2., 5., 5., 2., 1., 2., 2., 5., 3., 5., 1., 4.,\n",
            "        1., 1., 5., 3., 4., 4., 1., 3., 4., 1., 4., 3., 3., 1., 2., 1., 2., 1.,\n",
            "        3., 1., 2., 1., 1., 1., 3., 2., 2., 5., 4., 2., 3., 3., 2., 4., 5., 2.,\n",
            "        4., 5., 2., 2., 4., 4., 5., 4., 1., 5., 5., 1., 4., 4., 4., 4., 4., 3.,\n",
            "        2., 4., 1., 2., 2., 5., 1., 4., 1., 3., 1., 2., 1., 4., 1., 5., 4., 1.,\n",
            "        2., 2., 2., 2., 5., 4., 2., 5., 2., 1., 4., 2., 4., 5., 1., 2., 4., 4.,\n",
            "        3., 5., 3., 5., 5., 4., 2., 4., 2., 4., 5., 3., 2., 1., 2., 1., 5., 5.,\n",
            "        3., 5., 1., 2., 3., 1., 1., 5., 1., 2., 1., 1., 2., 4., 2., 1., 2., 2.,\n",
            "        4., 3., 4., 2., 4., 1., 2., 5., 2., 2., 4., 2., 2., 5., 5., 4., 1., 2.,\n",
            "        4., 2., 1., 2., 2., 2., 4., 4., 2., 5., 3., 5., 5., 2., 4., 3., 3., 2.,\n",
            "        2., 2., 2., 4., 5., 5., 1., 3., 3., 1., 2., 3., 4., 1., 4., 1., 4., 3.,\n",
            "        2., 2., 4., 1., 3., 5., 1., 1., 2., 5., 5., 5., 1., 5., 3., 5., 2., 2.,\n",
            "        4., 3., 1., 2., 4., 2., 4., 4., 5., 5., 4., 1., 4., 4., 5., 2., 5., 3.,\n",
            "        2., 4., 5., 4., 5., 2., 4., 3., 1., 5., 4., 1., 4., 4., 2., 4., 2., 1.,\n",
            "        1., 5., 3., 3., 4., 5., 2., 5., 3., 4., 4., 5., 2., 1., 5., 5., 3., 3.,\n",
            "        1., 3., 2., 2., 5., 4., 5., 1., 2., 1., 1., 4., 2., 2., 3., 1., 1., 4.,\n",
            "        1., 3., 5., 5., 3., 4., 1., 1., 5., 2., 4., 2., 1., 1., 3., 1., 1., 4.,\n",
            "        4., 1., 4., 4., 2., 1., 4., 1., 4., 3., 2., 5., 4., 3., 4., 3., 5., 5.,\n",
            "        3., 3., 1., 3., 1., 3., 1., 4., 2., 2., 4., 3., 1., 2., 4., 4., 4., 1.,\n",
            "        2., 2., 1., 1., 1., 5., 5., 4., 5., 3., 5., 2., 1., 1., 5., 2., 2., 1.,\n",
            "        1., 5., 1., 5., 1., 4., 3., 2., 3., 4., 3., 1., 3., 5., 4., 2., 4., 2.,\n",
            "        3., 3., 1., 4., 4., 4., 1., 3., 3., 1., 2., 5., 4., 1., 5., 3., 5., 1.,\n",
            "        5., 2., 1., 2., 4., 5., 3., 5., 3., 1., 2., 5., 4., 4., 1., 1., 3., 4.,\n",
            "        4., 3., 2., 4., 1., 4., 4., 3., 3., 5., 1., 4., 4., 3., 4., 2., 4., 2.,\n",
            "        5., 5., 2., 2., 1., 4., 2., 5., 4., 3., 5., 4., 3., 4., 3., 2., 5., 4.,\n",
            "        1., 3., 5., 4., 2., 4., 3., 4., 3., 2., 1., 3., 4., 5., 5., 1., 2., 4.,\n",
            "        2., 1., 5., 1., 2., 1., 5., 5., 3., 3., 1., 1., 2., 3., 5., 3., 2., 4.,\n",
            "        4., 5., 5., 5., 1., 4., 3., 1., 5., 1., 4., 2., 5., 5., 1., 1., 5., 2.,\n",
            "        3., 5., 3., 5., 2., 1., 5., 2., 3., 3., 3., 5., 5., 3., 1., 2., 3., 3.,\n",
            "        2., 2., 3., 1., 5., 2., 1., 3., 5., 5., 1., 2., 5., 5., 5., 5., 5., 1.,\n",
            "        5., 1., 2., 1., 5., 1., 2., 4., 2., 1., 5., 2., 1., 4., 1., 3., 4., 3.,\n",
            "        4., 3., 3., 1., 3., 4., 1., 3., 2., 1., 4., 1., 5., 3., 1., 2., 5., 1.,\n",
            "        1., 2., 1., 3., 5., 1., 2., 2., 4., 3., 4., 2., 1., 2., 1., 2., 4., 1.,\n",
            "        4., 2., 2., 3., 4., 2., 2., 4., 5., 5., 3., 1., 1., 3., 2., 1., 4., 4.,\n",
            "        1., 2., 3., 1., 5., 2., 4., 3., 5., 3., 3., 5., 1., 3., 5., 1., 5., 3.,\n",
            "        2., 2., 4., 4., 3., 4., 2., 2., 5., 5., 5., 1., 1., 1., 2., 1., 5., 3.,\n",
            "        3., 3., 3., 2., 5., 4., 2., 3., 3., 2., 3., 2., 1., 1., 2., 4., 2., 1.,\n",
            "        4., 1., 3., 1., 4., 5., 1., 1., 2., 1., 1., 3., 5., 4., 5., 2., 3., 5.,\n",
            "        4., 1., 5., 2., 5., 1., 2., 4., 2., 3., 5., 4., 2., 1., 5., 2., 4., 3.,\n",
            "        1., 4., 4., 2., 5., 3., 1., 3., 3., 3., 4., 3., 5., 4., 1., 3., 4., 3.,\n",
            "        5., 3., 5., 4., 5., 2., 4., 2., 3., 3.])\n",
            "tensor([[ 747.,    0.,    0.,  ...,    0.,    0.,    0.],\n",
            "        [   0.,  994.,   97.,  ...,    0.,    0.,    0.],\n",
            "        [   0.,   97., 1055.,  ...,    0.,    0.,    0.],\n",
            "        ...,\n",
            "        [   0.,    0.,    0.,  ..., 1539.,    0.,    0.],\n",
            "        [   0.,    0.,    0.,  ...,    0.,  796.,    0.],\n",
            "        [   0.,    0.,    0.,  ...,    0.,    0., 1183.]])\n"
          ],
          "name": "stdout"
        },
        {
          "output_type": "display_data",
          "data": {
            "image/png": "[encoded data removed]",
            "text/plain": [
              "<Figure size 432x288 with 2 Axes>"
            ]
          },
          "metadata": {
            "tags": [],
            "needs_background": "light"
          }
        }
      ]
    },
    {
      "cell_type": "markdown",
      "metadata": {
        "id": "2FW9gefy1gan"
      },
      "source": [
        "# The Gradient Descent"
      ]
    },
    {
      "cell_type": "markdown",
      "metadata": {
        "id": "BAXCcdhL2DaQ"
      },
      "source": [
        "## Defining the scorers\n",
        "\n",
        "This is the loss function, which is the negative of the score function as in the problem statement:\n",
        "$$ \\text{LOSS} = \\sum_{i = 1}^{n} \\sum_{j = i}^{m} \\alpha_{i} \\alpha_{j}\\; Cov[i, j] - \\sum_{i = 1}^{n} \\alpha_i\\; Val[i]  $$"
      ]
    },
    {
      "cell_type": "code",
      "metadata": {
        "id": "S7wHoTjRqDxY",
        "outputId": "a228c2a2-3c3a-4d0d-8a2a-627ea7eefd93",
        "colab": {
          "base_uri": "https://localhost:8080/",
          "height": 87
        }
      },
      "source": [
        "def loss_fn(alpha, g):\n",
        "    n = alpha.shape[0]\n",
        "    sc_val = torch.mul(alpha, g.val)\n",
        "    sc_cov = torch.mul(g.var, torch.ger(alpha, alpha))\n",
        "    var_sum = torch.sum(torch.mul(sc_cov, torch.eye(n)))\n",
        "    total_sum = torch.sum(sc_cov)\n",
        "    cov_sum = (total_sum - var_sum) / 2\n",
        "    loss = cov_sum + var_sum - torch.sum(sc_val)\n",
        "    return loss\n",
        "\n",
        "\n",
        "alpha = torch.tensor(torch.mul(g.lim, torch.randn(g.n)), requires_grad=True).to(DEVICE).float()\n",
        "for i in range(g.n):\n",
        "    alpha.clamp(0, g.lim[i])\n",
        "\n",
        "loss_fn(alpha.detach(), g)"
      ],
      "execution_count": 4,
      "outputs": [
        {
          "output_type": "stream",
          "text": [
            "/usr/local/lib/python3.6/dist-packages/ipykernel_launcher.py:12: UserWarning: To copy construct from a tensor, it is recommended to use sourceTensor.clone().detach() or sourceTensor.clone().detach().requires_grad_(True), rather than torch.tensor(sourceTensor).\n",
            "  if sys.path[0] == '':\n"
          ],
          "name": "stderr"
        },
        {
          "output_type": "execute_result",
          "data": {
            "text/plain": [
              "tensor(9348755.)"
            ]
          },
          "metadata": {
            "tags": []
          },
          "execution_count": 4
        }
      ]
    },
    {
      "cell_type": "markdown",
      "metadata": {
        "id": "06AZAw_R3uDM"
      },
      "source": [
        "## The Training Loop\n",
        "\n",
        "This is the standard PyTorch Traning loop.\n",
        "\n",
        "The only difference is that there is a clamp on the values in the tensor, so that we are still in the limits as posed by the problem.\n",
        "\n",
        "The optimizer is given the alpha vector to optimize, the gradient descent is on the input and not on the parameters of the model. (Since there is no model, we only the need the optimal input that minimizes the loss function.)"
      ]
    },
    {
      "cell_type": "code",
      "metadata": {
        "id": "Lee01uDGjbF3",
        "outputId": "ffb87e54-78ae-407a-c1ad-4d8c93a9a1a7",
        "colab": {
          "base_uri": "https://localhost:8080/",
          "height": 1000
        }
      },
      "source": [
        "alpha = torch.tensor(torch.randn(g.n), requires_grad=True).to(DEVICE).float()\n",
        "for i in range(g.n):\n",
        "    alpha.clamp(0, g.lim[i])\n",
        "\n",
        "opt = torch.optim.Adam([alpha], lr=1e-5) # Try out Stochastic Gradient Descent too \n",
        "\n",
        "score_history = []\n",
        "with tqdm.trange(1000) as tq: # Feel Free to increase the number of epochs here\n",
        "    for i in tq:\n",
        "        loss = loss_fn(alpha, g)\n",
        "        tq.set_postfix(score=-loss.item())\n",
        "        score_history.append(-loss.item())\n",
        "        opt.zero_grad()\n",
        "        loss.backward()\n",
        "        opt.step()\n",
        "        with torch.no_grad():\n",
        "            for i in range(g.n):\n",
        "                alpha[i] = torch.clamp(alpha[i], 0, g.lim[i])\n",
        "\n",
        "print(alpha.clone().detach())\n",
        "plt.plot(score_history)\n",
        "plt.title('Score through Training')\n",
        "plt.xlabel('Step')\n",
        "plt.ylabel('Score')\n",
        "plt.show()"
      ],
      "execution_count": 5,
      "outputs": [
        {
          "output_type": "stream",
          "text": [
            "/usr/local/lib/python3.6/dist-packages/ipykernel_launcher.py:1: UserWarning: To copy construct from a tensor, it is recommended to use sourceTensor.clone().detach() or sourceTensor.clone().detach().requires_grad_(True), rather than torch.tensor(sourceTensor).\n",
            "  \"\"\"Entry point for launching an IPython kernel.\n",
            "100%|██████████| 1000/1000 [00:22<00:00, 45.09it/s, score=2.71e+6]\n"
          ],
          "name": "stderr"
        },
        {
          "output_type": "stream",
          "text": [
            "tensor([2.0000, 0.0100, 0.0100, 0.8981, 0.0100, 0.0100, 0.7235, 0.0100, 0.1011,\n",
            "        0.2049, 0.0407, 0.0183, 0.1904, 0.0100, 0.9025, 0.0100, 0.0100, 1.0000,\n",
            "        0.0100, 0.0557, 0.0100, 0.0100, 0.1353, 0.1975, 0.5697, 0.0100, 0.4543,\n",
            "        0.0133, 1.0000, 0.1626, 0.8469, 0.0100, 0.0100, 0.5911, 0.0100, 1.0000,\n",
            "        1.7931, 0.0100, 0.0100, 1.9251, 0.0100, 0.4177, 0.2974, 0.0100, 0.0100,\n",
            "        0.2508, 0.0100, 0.2395, 0.0100, 0.9823, 1.0111, 0.0100, 0.4263, 0.0100,\n",
            "        1.6965, 0.0100, 1.0095, 1.0000, 0.1772, 0.0100, 0.7728, 1.2993, 0.6982,\n",
            "        0.0100, 0.0100, 0.0100, 0.3874, 0.8345, 0.0100, 0.1187, 0.0100, 0.5941,\n",
            "        1.5109, 1.2124, 3.0000, 1.0000, 0.1253, 0.1488, 1.0000, 0.0100, 0.0225,\n",
            "        0.0100, 0.0100, 0.2935, 0.0099, 0.5305, 1.0000, 0.2825, 1.8645, 1.0000,\n",
            "        0.0100, 0.0100, 0.0100, 2.6476, 0.0100, 0.2325, 0.0100, 0.0100, 0.6050,\n",
            "        0.0100, 0.0100, 0.0100, 0.0100, 0.0100, 0.1674, 0.0163, 0.0100, 0.3434,\n",
            "        0.0100, 1.3382, 0.5517, 0.0100, 0.7809, 0.4556, 1.7115, 0.6958, 0.4208,\n",
            "        0.0100, 1.0501, 0.0100, 0.3743, 0.0100, 0.5155, 0.0100, 0.0100, 0.0100,\n",
            "        0.0100, 0.0107, 0.0100, 0.0890, 0.9026, 0.0100, 0.9317, 0.0100, 0.0100,\n",
            "        1.1432, 0.0100, 0.0879, 0.0100, 1.3123, 0.2132, 0.3756, 0.9604, 0.0100,\n",
            "        0.0100, 0.0100, 0.0100, 1.6598, 0.2600, 0.0100, 0.0100, 0.2408, 0.0100,\n",
            "        0.2443, 0.3344, 0.3535, 1.6306, 1.3441, 0.0100, 0.0100, 0.0100, 0.6008,\n",
            "        0.0100, 0.0100, 0.5006, 1.0000, 0.7678, 0.7180, 0.2864, 0.0100, 1.5245,\n",
            "        0.3467, 0.4434, 0.3353, 0.6187, 0.3105, 0.0100, 0.0100, 0.0100, 0.2408,\n",
            "        0.0100, 0.0100, 0.0100, 0.4572, 0.0100, 0.0100, 0.0100, 0.7841, 0.8838,\n",
            "        0.2842, 0.0100, 0.0897, 0.1764, 0.9824, 0.0313, 1.7710, 0.3857, 0.3489,\n",
            "        1.0000, 0.6990, 0.8475, 0.0100, 1.0000, 0.3884, 0.2787, 0.0100, 0.9943,\n",
            "        0.0100, 1.0484, 0.0100, 0.4913, 0.9904, 0.0100, 0.0100, 0.1919, 1.4135,\n",
            "        0.0100, 0.1343, 0.0100, 0.0100, 0.0100, 0.0100, 0.0100, 0.2946, 0.4669,\n",
            "        1.1497, 1.1507, 0.0100, 0.0100, 1.0225, 0.0100, 0.4809, 0.0100, 0.0100,\n",
            "        0.0100, 0.0100, 0.0100, 0.7892, 0.3412, 0.0099, 0.0100, 0.0100, 0.0100,\n",
            "        0.0100, 0.0100, 0.0945, 0.0100, 0.0100, 0.5739, 0.4940, 0.0974, 0.0100,\n",
            "        1.5884, 0.0100, 0.2549, 1.4892, 0.0100, 1.3090, 0.0100, 0.0100, 0.0100,\n",
            "        0.0100, 0.4140, 0.0100, 0.9856, 0.0100, 0.0100, 0.1823, 0.0100, 0.0100,\n",
            "        1.1756, 0.4709, 0.0100, 0.0100, 0.0100, 0.0100, 0.1565, 0.9071, 0.0412,\n",
            "        0.0100, 0.0100, 0.0100, 0.0100, 1.6659, 0.4100, 0.5361, 0.1928, 0.0100,\n",
            "        0.0100, 0.0100, 1.0212, 0.0100, 0.0100, 0.0100, 0.0100, 0.0100, 0.0100,\n",
            "        0.9162, 0.1649, 0.0100, 1.5535, 0.8271, 0.9916, 1.0000, 0.4991, 0.0100,\n",
            "        0.0100, 0.0100, 0.0100, 0.0100, 0.0100, 1.0000, 0.0100, 1.5173, 0.4906,\n",
            "        0.0100, 0.4974, 1.8482, 0.7526, 0.0100, 0.0100, 0.0100, 0.0100, 0.2802,\n",
            "        1.7751, 2.5494, 0.1765, 1.6634, 0.0100, 0.0100, 0.2893, 0.0100, 0.0100,\n",
            "        0.0100, 0.2858, 0.0100, 0.0100, 0.9592, 0.6711, 0.0100, 0.0100, 0.6364,\n",
            "        0.8929, 0.0100, 1.0000, 1.3239, 0.0100, 1.7225, 0.0100, 0.6092, 0.0100,\n",
            "        0.0100, 0.0100, 0.0100, 1.0000, 0.6276, 0.5231, 1.6194, 0.0100, 0.3347,\n",
            "        1.1618, 0.1983, 0.0100, 0.0100, 0.0100, 0.8240, 0.0100, 0.8133, 1.1953,\n",
            "        1.0000, 0.0100, 0.3970, 0.0100, 0.0100, 0.0100, 0.0100, 0.2778, 0.0100,\n",
            "        0.5781, 0.0100, 0.8715, 0.1440, 0.0100, 0.0100, 0.0100, 0.0100, 0.0100,\n",
            "        0.0100, 0.0100, 1.1379, 0.0100, 0.0100, 1.0660, 0.0395, 0.6760, 2.0082,\n",
            "        0.0100, 0.1843, 1.0000, 0.2148, 0.0100, 0.0100, 0.0100, 0.0100, 0.0100,\n",
            "        0.0100, 0.0100, 0.7221, 0.0100, 0.8457, 0.8498, 1.0000, 1.3199, 0.0100,\n",
            "        0.0100, 0.0100, 0.0100, 0.4139, 0.0100, 0.0100, 0.0100, 1.1649, 0.3703,\n",
            "        0.0100, 0.0100, 0.0100, 0.0100, 1.4818, 0.0100, 0.0100, 0.0100, 0.8612,\n",
            "        0.0215, 0.9742, 1.0000, 0.0100, 0.6207, 0.0100, 0.0100, 0.0100, 0.4621,\n",
            "        0.1820, 0.0100, 0.0100, 0.2980, 1.1363, 2.2222, 0.0100, 1.3757, 0.0100,\n",
            "        0.1998, 0.0100, 2.0000, 0.0100, 0.0100, 0.0100, 0.0100, 0.0100, 0.1565,\n",
            "        0.0100, 0.0100, 0.3519, 0.7848, 0.1336, 0.0100, 0.0100, 0.1143, 0.0100,\n",
            "        0.0100, 0.0100, 1.6819, 0.0100, 2.6431, 0.0100, 0.0100, 0.0100, 0.0100,\n",
            "        0.4024, 0.0100, 0.0100, 0.0100, 0.5325, 0.0100, 0.5074, 0.1287, 0.0100,\n",
            "        0.0100, 0.7108, 0.0100, 0.0649, 0.5398, 0.0100, 0.0100, 0.5441, 0.0100,\n",
            "        1.4033, 0.0100, 0.0100, 0.0100, 1.0726, 0.0100, 1.2986, 0.0100, 0.2520,\n",
            "        1.4221, 0.0100, 0.6950, 0.0100, 1.5641, 0.0100, 0.0100, 0.0100, 1.0000,\n",
            "        0.3602, 0.0100, 0.0643, 0.0100, 0.0100, 1.4789, 0.0137, 1.8780, 0.0100,\n",
            "        0.0100, 0.0100, 0.8198, 0.0100, 0.0214, 0.0100, 1.6413, 1.5696, 0.8127,\n",
            "        1.4327, 0.8459, 0.1553, 0.5200, 1.0000, 0.0100, 0.8179, 0.0100, 0.0100,\n",
            "        0.7700, 0.0100, 0.2020, 0.0100, 0.0100, 0.0100, 0.0100, 0.0100, 0.0100,\n",
            "        0.0100, 0.0100, 0.1843, 0.0100, 0.8692, 0.0100, 0.0100, 0.9198, 1.2473,\n",
            "        0.9308, 0.0100, 0.0100, 0.0100, 0.3136, 1.1194, 0.1139, 0.0100, 0.0100,\n",
            "        0.0936, 0.8301, 0.3301, 0.0100, 0.0100, 0.8017, 0.1359, 0.0100, 0.0100,\n",
            "        0.0100, 0.5570, 1.7283, 0.5839, 0.4278, 0.2822, 0.2227, 1.0000, 0.1391,\n",
            "        0.0634, 0.1004, 0.0319, 0.0100, 0.0100, 0.0100, 0.0100, 1.1931, 0.0100,\n",
            "        0.0100, 0.0100, 0.2152, 1.3745, 0.0100, 2.8543, 1.0000, 0.0100, 0.0100,\n",
            "        1.2124, 0.0100, 1.0375, 0.0100, 0.5296, 0.0100, 0.0100, 0.1793, 0.0276,\n",
            "        0.0100, 0.0100, 0.0648, 0.0100, 0.0100, 1.8438, 1.7565, 0.5179, 0.0100,\n",
            "        0.0100, 0.3254, 2.0000, 0.0100, 0.0100, 0.0100, 1.0677, 1.1068, 0.0100,\n",
            "        1.0000, 2.5195, 0.3381, 0.1923, 0.0100, 1.5782, 0.0100, 0.0100, 0.0100,\n",
            "        0.0100, 0.0100, 0.0100, 2.0757, 0.4572, 0.9799, 0.4740, 1.2781, 0.0100,\n",
            "        0.0100, 0.7884, 0.0100, 1.1128, 0.0100, 0.2642, 0.0100, 2.4980, 1.6003,\n",
            "        1.0000, 0.0307, 0.0100, 0.0100, 0.0100, 0.3125, 1.9538, 1.1027, 0.0120,\n",
            "        0.4914, 0.0100, 0.0100, 0.5475, 0.0100, 0.0100, 0.0100, 0.7083, 0.0100,\n",
            "        0.0671, 0.9569, 0.0100, 0.5242, 0.9527, 0.7212, 0.0100, 1.2482, 0.2988,\n",
            "        0.5163, 0.0486, 0.7367, 0.6896, 1.0000, 0.3518, 0.0100, 0.0100, 0.3899,\n",
            "        2.0641, 0.8738, 0.0100, 0.0100, 0.7096, 0.0099, 0.6170, 0.0100, 0.0100,\n",
            "        0.3173, 0.8530, 0.0100, 0.0100, 1.0000, 0.0100, 0.0100, 0.0100, 0.0100,\n",
            "        0.0100, 0.0100, 1.5163, 0.6872, 0.0100, 0.0100, 1.7005, 0.0100, 0.3833,\n",
            "        0.0100, 0.4475, 1.7705, 0.4086, 0.0100, 0.7353, 1.6589, 0.0100, 0.5422,\n",
            "        2.0000, 0.0100, 0.9752, 1.3836, 0.3227, 0.0100, 0.0100, 0.1659, 2.4416,\n",
            "        0.0469, 0.0100, 0.0317, 0.0099, 1.0043, 0.7996, 0.0100, 0.0100, 0.9757,\n",
            "        0.6079, 0.3987, 0.9581, 1.0031, 0.3665, 0.7201, 0.0100, 0.3897, 0.0100,\n",
            "        0.0100, 0.1488, 1.5615, 0.9885, 0.0100, 0.0100, 0.0100, 0.6597, 1.4301,\n",
            "        0.6695, 0.0100, 0.0100, 0.0100, 0.8449, 0.0100, 0.0100, 0.3493, 0.5652,\n",
            "        0.7671, 0.0100, 0.9906, 0.0100, 0.5961, 0.0100, 0.0100, 0.0100, 1.2514,\n",
            "        0.0100, 0.7527, 1.5073, 0.0100, 0.0100, 0.3001, 0.5128, 1.5841, 0.0381,\n",
            "        0.0100, 0.0100, 0.7126, 0.3216, 0.0100, 0.5977, 0.0100, 0.0100, 0.0100,\n",
            "        0.0100, 0.0100, 0.3616, 0.0100, 0.0100, 0.0100, 1.0241, 0.0100, 1.0000,\n",
            "        0.0100, 0.0100, 0.0100, 0.0100, 0.0100, 1.0000, 2.0000, 0.0100, 0.7539,\n",
            "        0.3357, 1.4141, 0.0100, 0.4975, 0.0100, 0.0099, 0.0100, 0.3485, 0.1975,\n",
            "        2.1400, 0.4461, 0.0100, 0.0100, 0.0100, 0.5746, 1.0000, 0.0100, 2.0000,\n",
            "        0.6249, 0.0100, 0.0348, 1.2518, 0.0100, 0.2618, 0.0100, 0.1452, 1.0000,\n",
            "        1.0000, 0.0100, 0.0100, 1.1022, 0.0100, 0.0760, 0.0100, 0.8630, 0.1033,\n",
            "        0.0100, 0.0100, 0.3067, 1.0000, 0.1212, 0.6507, 0.9732, 1.4257, 0.0100,\n",
            "        0.0100, 0.0100, 0.0100, 2.1292, 0.0100, 1.3040, 0.0100, 0.6958, 0.0100,\n",
            "        0.0100, 0.0100, 0.0100, 0.0100, 0.0100, 0.0100, 0.0100, 0.0100, 0.0100,\n",
            "        0.0100, 0.0100, 0.0100, 0.9045, 0.0100, 1.2160, 0.7996, 0.0100, 0.0100,\n",
            "        0.1060, 0.1833, 0.8118, 0.0100, 0.0100, 0.0100, 0.0100, 0.9020, 0.0100,\n",
            "        0.0100, 1.5746, 0.8561, 0.0100, 0.7712, 0.0100, 0.0100, 0.4671, 0.0100,\n",
            "        1.4865, 0.0100, 0.0100, 0.0654, 0.0100, 0.0100, 0.6922, 1.0539, 0.0100,\n",
            "        0.0100, 0.6678, 1.7718, 0.0100, 0.0100, 0.3919, 0.7843, 0.0100, 1.1514,\n",
            "        0.0100, 0.3324, 0.9653, 0.7151, 0.1635, 1.3535, 0.0100, 0.4332, 0.8227,\n",
            "        1.2916, 0.0100, 1.0751, 0.0100, 2.2533, 0.0100, 0.0100, 0.2282, 0.8732,\n",
            "        0.1917, 0.2519, 0.1647, 0.2113, 0.0100, 0.0100, 0.5534, 0.0100, 1.2221,\n",
            "        0.0100, 0.0100, 0.3825, 1.0476, 0.0100, 0.0100, 1.3667, 0.6398, 0.0100,\n",
            "        0.9791, 0.0100, 0.7607, 0.0100, 0.3700, 0.0100, 0.0100, 0.0100, 0.0100,\n",
            "        1.0000, 0.0100, 0.0100, 0.0100, 0.0100, 0.3396, 0.0100, 0.2147, 0.0100,\n",
            "        0.0100, 2.2625, 0.9254, 0.2074, 0.0100, 0.3734, 3.0000, 0.5912, 0.0100,\n",
            "        0.0100, 0.7011, 1.1360, 0.5342, 0.0100, 1.1349, 2.1778, 0.2949, 0.0100,\n",
            "        0.3755])\n"
          ],
          "name": "stdout"
        },
        {
          "output_type": "display_data",
          "data": {
            "image/png": "[encoded data removed]",
            "text/plain": [
              "<Figure size 432x288 with 1 Axes>"
            ]
          },
          "metadata": {
            "tags": [],
            "needs_background": "light"
          }
        }
      ]
    },
    {
      "cell_type": "markdown",
      "metadata": {
        "id": "TH8tzpBv4nyl"
      },
      "source": [
        "# The Final Outputs\n",
        "\n",
        "We need to round off and start getting the scores on the tasks."
      ]
    },
    {
      "cell_type": "markdown",
      "metadata": {
        "id": "NkJOqDmB4st9"
      },
      "source": [
        "## Score function\n",
        "\n",
        "This is the officially provided score function, does the same things as the loss function but on regular numpy arrays and in the opposite sense (positive score is negative loss)."
      ]
    },
    {
      "cell_type": "code",
      "metadata": {
        "id": "233ipPle0I-Y"
      },
      "source": [
        "def score(vals, cov, betas):\n",
        "    n = cov.shape[0]\n",
        "    sc = np.sum(np.multiply(betas, vals))\n",
        "\n",
        "    res = np.ones((n, n))\n",
        "    res1 = np.multiply(res, betas) # row-copies of beta\n",
        "    res2 = res1.T\n",
        "    res = np.multiply(res1, res2)\n",
        "    res = np.multiply(res, cov)\n",
        "\n",
        "    var_sum = np.sum(np.multiply(res, np.eye(n)))\n",
        "    total_sum = np.sum(res)\n",
        "    cov_sum = (total_sum - var_sum) // 2\n",
        "    sc -= cov_sum + var_sum\n",
        "    return sc"
      ],
      "execution_count": 6,
      "outputs": []
    },
    {
      "cell_type": "markdown",
      "metadata": {
        "id": "BBZYYwwL5ssd"
      },
      "source": [
        "We detach all our torch tensors and get them on the CPU. (in case you changed the device to a GPU, and you are welcome to do that if you have one).\n",
        "\n",
        "And we finally output the loss function value."
      ]
    },
    {
      "cell_type": "code",
      "metadata": {
        "id": "XftvKD3G3sMe",
        "outputId": "e2f8f7cc-e114-4cb8-be6a-b75eec38c6ce",
        "colab": {
          "base_uri": "https://localhost:8080/",
          "height": 736
        }
      },
      "source": [
        "val = g.val.detach().cpu().numpy()\n",
        "var = g.var.detach().cpu().numpy()\n",
        "ans = alpha.detach().cpu().numpy()\n",
        "\n",
        "print('Answer:\\n', score(val, var, np.round(ans)), np.round(ans))"
      ],
      "execution_count": 7,
      "outputs": [
        {
          "output_type": "stream",
          "text": [
            "Answer:\n",
            " 2495417.0 [2. 0. 0. 1. 0. 0. 1. 0. 0. 0. 0. 0. 0. 0. 1. 0. 0. 1. 0. 0. 0. 0. 0. 0.\n",
            " 1. 0. 0. 0. 1. 0. 1. 0. 0. 1. 0. 1. 2. 0. 0. 2. 0. 0. 0. 0. 0. 0. 0. 0.\n",
            " 0. 1. 1. 0. 0. 0. 2. 0. 1. 1. 0. 0. 1. 1. 1. 0. 0. 0. 0. 1. 0. 0. 0. 1.\n",
            " 2. 1. 3. 1. 0. 0. 1. 0. 0. 0. 0. 0. 0. 1. 1. 0. 2. 1. 0. 0. 0. 3. 0. 0.\n",
            " 0. 0. 1. 0. 0. 0. 0. 0. 0. 0. 0. 0. 0. 1. 1. 0. 1. 0. 2. 1. 0. 0. 1. 0.\n",
            " 0. 0. 1. 0. 0. 0. 0. 0. 0. 0. 1. 0. 1. 0. 0. 1. 0. 0. 0. 1. 0. 0. 1. 0.\n",
            " 0. 0. 0. 2. 0. 0. 0. 0. 0. 0. 0. 0. 2. 1. 0. 0. 0. 1. 0. 0. 1. 1. 1. 1.\n",
            " 0. 0. 2. 0. 0. 0. 1. 0. 0. 0. 0. 0. 0. 0. 0. 0. 0. 0. 0. 1. 1. 0. 0. 0.\n",
            " 0. 1. 0. 2. 0. 0. 1. 1. 1. 0. 1. 0. 0. 0. 1. 0. 1. 0. 0. 1. 0. 0. 0. 1.\n",
            " 0. 0. 0. 0. 0. 0. 0. 0. 0. 1. 1. 0. 0. 1. 0. 0. 0. 0. 0. 0. 0. 1. 0. 0.\n",
            " 0. 0. 0. 0. 0. 0. 0. 0. 1. 0. 0. 0. 2. 0. 0. 1. 0. 1. 0. 0. 0. 0. 0. 0.\n",
            " 1. 0. 0. 0. 0. 0. 1. 0. 0. 0. 0. 0. 0. 1. 0. 0. 0. 0. 0. 2. 0. 1. 0. 0.\n",
            " 0. 0. 1. 0. 0. 0. 0. 0. 0. 1. 0. 0. 2. 1. 1. 1. 0. 0. 0. 0. 0. 0. 0. 1.\n",
            " 0. 2. 0. 0. 0. 2. 1. 0. 0. 0. 0. 0. 2. 3. 0. 2. 0. 0. 0. 0. 0. 0. 0. 0.\n",
            " 0. 1. 1. 0. 0. 1. 1. 0. 1. 1. 0. 2. 0. 1. 0. 0. 0. 0. 1. 1. 1. 2. 0. 0.\n",
            " 1. 0. 0. 0. 0. 1. 0. 1. 1. 1. 0. 0. 0. 0. 0. 0. 0. 0. 1. 0. 1. 0. 0. 0.\n",
            " 0. 0. 0. 0. 0. 1. 0. 0. 1. 0. 1. 2. 0. 0. 1. 0. 0. 0. 0. 0. 0. 0. 0. 1.\n",
            " 0. 1. 1. 1. 1. 0. 0. 0. 0. 0. 0. 0. 0. 1. 0. 0. 0. 0. 0. 1. 0. 0. 0. 1.\n",
            " 0. 1. 1. 0. 1. 0. 0. 0. 0. 0. 0. 0. 0. 1. 2. 0. 1. 0. 0. 0. 2. 0. 0. 0.\n",
            " 0. 0. 0. 0. 0. 0. 1. 0. 0. 0. 0. 0. 0. 0. 2. 0. 3. 0. 0. 0. 0. 0. 0. 0.\n",
            " 0. 1. 0. 1. 0. 0. 0. 1. 0. 0. 1. 0. 0. 1. 0. 1. 0. 0. 0. 1. 0. 1. 0. 0.\n",
            " 1. 0. 1. 0. 2. 0. 0. 0. 1. 0. 0. 0. 0. 0. 1. 0. 2. 0. 0. 0. 1. 0. 0. 0.\n",
            " 2. 2. 1. 1. 1. 0. 1. 1. 0. 1. 0. 0. 1. 0. 0. 0. 0. 0. 0. 0. 0. 0. 0. 0.\n",
            " 0. 1. 0. 0. 1. 1. 1. 0. 0. 0. 0. 1. 0. 0. 0. 0. 1. 0. 0. 0. 1. 0. 0. 0.\n",
            " 0. 1. 2. 1. 0. 0. 0. 1. 0. 0. 0. 0. 0. 0. 0. 0. 1. 0. 0. 0. 0. 1. 0. 3.\n",
            " 1. 0. 0. 1. 0. 1. 0. 1. 0. 0. 0. 0. 0. 0. 0. 0. 0. 2. 2. 1. 0. 0. 0. 2.\n",
            " 0. 0. 0. 1. 1. 0. 1. 3. 0. 0. 0. 2. 0. 0. 0. 0. 0. 0. 2. 0. 1. 0. 1. 0.\n",
            " 0. 1. 0. 1. 0. 0. 0. 2. 2. 1. 0. 0. 0. 0. 0. 2. 1. 0. 0. 0. 0. 1. 0. 0.\n",
            " 0. 1. 0. 0. 1. 0. 1. 1. 1. 0. 1. 0. 1. 0. 1. 1. 1. 0. 0. 0. 0. 2. 1. 0.\n",
            " 0. 1. 0. 1. 0. 0. 0. 1. 0. 0. 1. 0. 0. 0. 0. 0. 0. 2. 1. 0. 0. 2. 0. 0.\n",
            " 0. 0. 2. 0. 0. 1. 2. 0. 1. 2. 0. 1. 1. 0. 0. 0. 0. 2. 0. 0. 0. 0. 1. 1.\n",
            " 0. 0. 1. 1. 0. 1. 1. 0. 1. 0. 0. 0. 0. 0. 2. 1. 0. 0. 0. 1. 1. 1. 0. 0.\n",
            " 0. 1. 0. 0. 0. 1. 1. 0. 1. 0. 1. 0. 0. 0. 1. 0. 1. 2. 0. 0. 0. 1. 2. 0.\n",
            " 0. 0. 1. 0. 0. 1. 0. 0. 0. 0. 0. 0. 0. 0. 0. 1. 0. 1. 0. 0. 0. 0. 0. 1.\n",
            " 2. 0. 1. 0. 1. 0. 0. 0. 0. 0. 0. 0. 2. 0. 0. 0. 0. 1. 1. 0. 2. 1. 0. 0.\n",
            " 1. 0. 0. 0. 0. 1. 1. 0. 0. 1. 0. 0. 0. 1. 0. 0. 0. 0. 1. 0. 1. 1. 1. 0.\n",
            " 0. 0. 0. 2. 0. 1. 0. 1. 0. 0. 0. 0. 0. 0. 0. 0. 0. 0. 0. 0. 0. 1. 0. 1.\n",
            " 1. 0. 0. 0. 0. 1. 0. 0. 0. 0. 1. 0. 0. 2. 1. 0. 1. 0. 0. 0. 0. 1. 0. 0.\n",
            " 0. 0. 0. 1. 1. 0. 0. 1. 2. 0. 0. 0. 1. 0. 1. 0. 0. 1. 1. 0. 1. 0. 0. 1.\n",
            " 1. 0. 1. 0. 2. 0. 0. 0. 1. 0. 0. 0. 0. 0. 0. 1. 0. 1. 0. 0. 0. 1. 0. 0.\n",
            " 1. 1. 0. 1. 0. 1. 0. 0. 0. 0. 0. 0. 1. 0. 0. 0. 0. 0. 0. 0. 0. 0. 2. 1.\n",
            " 0. 0. 0. 3. 1. 0. 0. 1. 1. 1. 0. 1. 2. 0. 0. 0.]\n"
          ],
          "name": "stdout"
        }
      ]
    },
    {
      "cell_type": "markdown",
      "metadata": {
        "id": "qS_3TZwN6k4N"
      },
      "source": [
        "And yay, the Gradient Descent gets reasonably good scores on many of the datasets, atleast the ones that are randomly generated. 😄"
      ]
    }
  ]
}