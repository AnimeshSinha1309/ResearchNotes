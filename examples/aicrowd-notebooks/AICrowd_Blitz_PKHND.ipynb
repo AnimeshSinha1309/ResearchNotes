{
  "nbformat": 4,
  "nbformat_minor": 0,
  "metadata": {
    "kernelspec": {
      "display_name": "Python 3",
      "language": "python",
      "name": "python3"
    },
    "language_info": {
      "codemirror_mode": {
        "name": "ipython",
        "version": 3
      },
      "file_extension": ".py",
      "mimetype": "text/x-python",
      "name": "python",
      "nbconvert_exporter": "python",
      "pygments_lexer": "ipython3",
      "version": "3.7.3"
    },
    "colab": {
      "name": "AICrowd Blitz - PKHND.ipynb",
      "provenance": [],
      "collapsed_sections": [],
      "toc_visible": true
    }
  },
  "cells": [
    {
      "cell_type": "markdown",
      "metadata": {
        "id": "uvzc8IIkhXSY",
        "colab_type": "text"
      },
      "source": [
        "# Submission for the AIcrowd Blitz Challenge PKHND\n",
        "\n",
        "Author - Animesh Sinha\n",
        "\n",
        "Based off template by - Ayush Shivani"
      ]
    },
    {
      "cell_type": "markdown",
      "metadata": {
        "id": "SqtV9jTWhXSa",
        "colab_type": "text"
      },
      "source": [
        "To open this notebook on Google Computing platform Colab, click below!\n",
        "\n",
        "[![Open In Colab](https://colab.research.google.com/assets/colab-badge.svg)](https://colab.research.google.com/gist/aicrowd-bot/005cd2a9231779a260fc4bd96159dff6)\n"
      ]
    },
    {
      "cell_type": "markdown",
      "metadata": {
        "id": "6jKtWuXbNsjo",
        "colab_type": "text"
      },
      "source": [
        "## Comments on the Solution\n",
        "\n",
        "This is a deterministic solution to playing poker. \n",
        "\n",
        "The solution gets a perfect score. The problem is determinisitic and needs not training / Machine Learning."
      ]
    },
    {
      "cell_type": "markdown",
      "metadata": {
        "id": "ikUfk0y4hXSc",
        "colab_type": "text"
      },
      "source": [
        "# Prepare Data"
      ]
    },
    {
      "cell_type": "markdown",
      "metadata": {
        "id": "le5ZKJsthXSj",
        "colab_type": "text"
      },
      "source": [
        "## Download data\n",
        "The first step is to download out train test data. We will be training a classifier on the train data and make predictions on test data. We submit our predictions\n"
      ]
    },
    {
      "cell_type": "code",
      "metadata": {
        "id": "nJF3OqpEhXSk",
        "colab_type": "code",
        "outputId": "f20ce1f3-68c9-40f8-acc7-263058c5f795",
        "colab": {
          "base_uri": "https://localhost:8080/",
          "height": 425
        }
      },
      "source": [
        "!wget https://s3.eu-central-1.wasabisys.com/aicrowd-public-datasets/aicrowd_educational_pkhnd/data/public/test.csv\n",
        "!wget https://s3.eu-central-1.wasabisys.com/aicrowd-public-datasets/aicrowd_educational_pkhnd/data/public/train.zip\n",
        "!unzip train.zip"
      ],
      "execution_count": 0,
      "outputs": [
        {
          "output_type": "stream",
          "text": [
            "--2020-05-09 22:38:19--  https://s3.eu-central-1.wasabisys.com/aicrowd-public-datasets/aicrowd_educational_pkhnd/data/public/test.csv\n",
            "Resolving s3.eu-central-1.wasabisys.com (s3.eu-central-1.wasabisys.com)... 130.117.252.10, 130.117.252.11, 130.117.252.13, ...\n",
            "Connecting to s3.eu-central-1.wasabisys.com (s3.eu-central-1.wasabisys.com)|130.117.252.10|:443... connected.\n",
            "HTTP request sent, awaiting response... 200 OK\n",
            "Length: 538694 (526K) [text/csv]\n",
            "Saving to: ‘test.csv’\n",
            "\n",
            "\rtest.csv              0%[                    ]       0  --.-KB/s               \rtest.csv            100%[===================>] 526.07K  --.-KB/s    in 0.02s   \n",
            "\n",
            "2020-05-09 22:38:19 (21.9 MB/s) - ‘test.csv’ saved [538694/538694]\n",
            "\n",
            "--2020-05-09 22:38:23--  https://s3.eu-central-1.wasabisys.com/aicrowd-public-datasets/aicrowd_educational_pkhnd/data/public/train.zip\n",
            "Resolving s3.eu-central-1.wasabisys.com (s3.eu-central-1.wasabisys.com)... 130.117.252.16, 130.117.252.13, 130.117.252.10, ...\n",
            "Connecting to s3.eu-central-1.wasabisys.com (s3.eu-central-1.wasabisys.com)|130.117.252.16|:443... connected.\n",
            "HTTP request sent, awaiting response... 200 OK\n",
            "Length: 6224117 (5.9M) [application/zip]\n",
            "Saving to: ‘train.zip’\n",
            "\n",
            "train.zip           100%[===================>]   5.94M  --.-KB/s    in 0.07s   \n",
            "\n",
            "2020-05-09 22:38:24 (87.2 MB/s) - ‘train.zip’ saved [6224117/6224117]\n",
            "\n",
            "Archive:  train.zip\n",
            "  inflating: train.csv               \n"
          ],
          "name": "stdout"
        }
      ]
    },
    {
      "cell_type": "markdown",
      "metadata": {
        "id": "T-0ic1EGhXSo",
        "colab_type": "text"
      },
      "source": [
        "\n",
        "## Import packages"
      ]
    },
    {
      "cell_type": "code",
      "metadata": {
        "id": "hPPhsevqhXSp",
        "colab_type": "code",
        "colab": {}
      },
      "source": [
        "import pandas as pd\n",
        "import numpy as np\n",
        "from sklearn.model_selection import train_test_split\n",
        "from sklearn.linear_model import LogisticRegression\n",
        "from sklearn.svm import SVC\n",
        "from sklearn.metrics import f1_score,precision_score,recall_score,accuracy_score"
      ],
      "execution_count": 0,
      "outputs": []
    },
    {
      "cell_type": "markdown",
      "metadata": {
        "id": "3t8VOZizhXSu",
        "colab_type": "text"
      },
      "source": [
        "## Load Data\n",
        "We use pandas library to load our data. Pandas loads them into dataframes which helps us analyze our data easily. Learn more about it [here](https://www.tutorialspoint.com/python_data_science/python_pandas.htm)"
      ]
    },
    {
      "cell_type": "code",
      "metadata": {
        "id": "xetZi1QAhXSv",
        "colab_type": "code",
        "colab": {}
      },
      "source": [
        "train_data_path = \"train.csv\" #path where data is stored"
      ],
      "execution_count": 0,
      "outputs": []
    },
    {
      "cell_type": "code",
      "metadata": {
        "id": "smbhN-HbhXS2",
        "colab_type": "code",
        "colab": {}
      },
      "source": [
        "train_data = pd.read_csv(train_data_path) #load data in dataframe using pandas"
      ],
      "execution_count": 0,
      "outputs": []
    },
    {
      "cell_type": "markdown",
      "metadata": {
        "id": "KlYRAweyhXS7",
        "colab_type": "text"
      },
      "source": [
        "## Visualize data"
      ]
    },
    {
      "cell_type": "code",
      "metadata": {
        "id": "uNq-QI-rhXS8",
        "colab_type": "code",
        "outputId": "1fce9032-5ddf-4ee5-8d8e-eebe5e88c0c8",
        "colab": {
          "base_uri": "https://localhost:8080/",
          "height": 359
        }
      },
      "source": [
        "train_data.head(10)"
      ],
      "execution_count": 0,
      "outputs": [
        {
          "output_type": "execute_result",
          "data": {
            "text/html": [
              "<div>\n",
              "<style scoped>\n",
              "    .dataframe tbody tr th:only-of-type {\n",
              "        vertical-align: middle;\n",
              "    }\n",
              "\n",
              "    .dataframe tbody tr th {\n",
              "        vertical-align: top;\n",
              "    }\n",
              "\n",
              "    .dataframe thead th {\n",
              "        text-align: right;\n",
              "    }\n",
              "</style>\n",
              "<table border=\"1\" class=\"dataframe\">\n",
              "  <thead>\n",
              "    <tr style=\"text-align: right;\">\n",
              "      <th></th>\n",
              "      <th>S1</th>\n",
              "      <th>C1</th>\n",
              "      <th>S2</th>\n",
              "      <th>C2</th>\n",
              "      <th>S3</th>\n",
              "      <th>C3</th>\n",
              "      <th>S4</th>\n",
              "      <th>C4</th>\n",
              "      <th>S5</th>\n",
              "      <th>C5</th>\n",
              "      <th>label</th>\n",
              "    </tr>\n",
              "  </thead>\n",
              "  <tbody>\n",
              "    <tr>\n",
              "      <th>0</th>\n",
              "      <td>1</td>\n",
              "      <td>1</td>\n",
              "      <td>1</td>\n",
              "      <td>13</td>\n",
              "      <td>2</td>\n",
              "      <td>4</td>\n",
              "      <td>2</td>\n",
              "      <td>3</td>\n",
              "      <td>1</td>\n",
              "      <td>12</td>\n",
              "      <td>0</td>\n",
              "    </tr>\n",
              "    <tr>\n",
              "      <th>1</th>\n",
              "      <td>3</td>\n",
              "      <td>12</td>\n",
              "      <td>3</td>\n",
              "      <td>2</td>\n",
              "      <td>3</td>\n",
              "      <td>11</td>\n",
              "      <td>4</td>\n",
              "      <td>5</td>\n",
              "      <td>2</td>\n",
              "      <td>5</td>\n",
              "      <td>1</td>\n",
              "    </tr>\n",
              "    <tr>\n",
              "      <th>2</th>\n",
              "      <td>1</td>\n",
              "      <td>9</td>\n",
              "      <td>4</td>\n",
              "      <td>6</td>\n",
              "      <td>1</td>\n",
              "      <td>4</td>\n",
              "      <td>3</td>\n",
              "      <td>2</td>\n",
              "      <td>3</td>\n",
              "      <td>9</td>\n",
              "      <td>1</td>\n",
              "    </tr>\n",
              "    <tr>\n",
              "      <th>3</th>\n",
              "      <td>1</td>\n",
              "      <td>4</td>\n",
              "      <td>3</td>\n",
              "      <td>13</td>\n",
              "      <td>2</td>\n",
              "      <td>13</td>\n",
              "      <td>2</td>\n",
              "      <td>1</td>\n",
              "      <td>3</td>\n",
              "      <td>6</td>\n",
              "      <td>1</td>\n",
              "    </tr>\n",
              "    <tr>\n",
              "      <th>4</th>\n",
              "      <td>3</td>\n",
              "      <td>10</td>\n",
              "      <td>2</td>\n",
              "      <td>7</td>\n",
              "      <td>1</td>\n",
              "      <td>2</td>\n",
              "      <td>2</td>\n",
              "      <td>11</td>\n",
              "      <td>4</td>\n",
              "      <td>9</td>\n",
              "      <td>0</td>\n",
              "    </tr>\n",
              "    <tr>\n",
              "      <th>5</th>\n",
              "      <td>1</td>\n",
              "      <td>3</td>\n",
              "      <td>4</td>\n",
              "      <td>5</td>\n",
              "      <td>3</td>\n",
              "      <td>4</td>\n",
              "      <td>1</td>\n",
              "      <td>12</td>\n",
              "      <td>4</td>\n",
              "      <td>6</td>\n",
              "      <td>0</td>\n",
              "    </tr>\n",
              "    <tr>\n",
              "      <th>6</th>\n",
              "      <td>2</td>\n",
              "      <td>6</td>\n",
              "      <td>4</td>\n",
              "      <td>11</td>\n",
              "      <td>2</td>\n",
              "      <td>3</td>\n",
              "      <td>4</td>\n",
              "      <td>9</td>\n",
              "      <td>1</td>\n",
              "      <td>7</td>\n",
              "      <td>0</td>\n",
              "    </tr>\n",
              "    <tr>\n",
              "      <th>7</th>\n",
              "      <td>3</td>\n",
              "      <td>2</td>\n",
              "      <td>4</td>\n",
              "      <td>9</td>\n",
              "      <td>3</td>\n",
              "      <td>7</td>\n",
              "      <td>4</td>\n",
              "      <td>3</td>\n",
              "      <td>4</td>\n",
              "      <td>5</td>\n",
              "      <td>0</td>\n",
              "    </tr>\n",
              "    <tr>\n",
              "      <th>8</th>\n",
              "      <td>4</td>\n",
              "      <td>4</td>\n",
              "      <td>3</td>\n",
              "      <td>13</td>\n",
              "      <td>1</td>\n",
              "      <td>8</td>\n",
              "      <td>3</td>\n",
              "      <td>9</td>\n",
              "      <td>3</td>\n",
              "      <td>10</td>\n",
              "      <td>0</td>\n",
              "    </tr>\n",
              "    <tr>\n",
              "      <th>9</th>\n",
              "      <td>1</td>\n",
              "      <td>9</td>\n",
              "      <td>3</td>\n",
              "      <td>8</td>\n",
              "      <td>4</td>\n",
              "      <td>4</td>\n",
              "      <td>1</td>\n",
              "      <td>7</td>\n",
              "      <td>3</td>\n",
              "      <td>5</td>\n",
              "      <td>0</td>\n",
              "    </tr>\n",
              "  </tbody>\n",
              "</table>\n",
              "</div>"
            ],
            "text/plain": [
              "   S1  C1  S2  C2  S3  C3  S4  C4  S5  C5  label\n",
              "0   1   1   1  13   2   4   2   3   1  12      0\n",
              "1   3  12   3   2   3  11   4   5   2   5      1\n",
              "2   1   9   4   6   1   4   3   2   3   9      1\n",
              "3   1   4   3  13   2  13   2   1   3   6      1\n",
              "4   3  10   2   7   1   2   2  11   4   9      0\n",
              "5   1   3   4   5   3   4   1  12   4   6      0\n",
              "6   2   6   4  11   2   3   4   9   1   7      0\n",
              "7   3   2   4   9   3   7   4   3   4   5      0\n",
              "8   4   4   3  13   1   8   3   9   3  10      0\n",
              "9   1   9   3   8   4   4   1   7   3   5      0"
            ]
          },
          "metadata": {
            "tags": []
          },
          "execution_count": 45
        }
      ]
    },
    {
      "cell_type": "markdown",
      "metadata": {
        "id": "1hTf68UChXTC",
        "colab_type": "text"
      },
      "source": [
        "We can see there are 11 column where first 10 column contains the cards information and the last one describing the hand it makes. 1st and 2nd column contains suit and rank of first card respectively, 3rd and 4th column suit and rank of 2nd card and so on."
      ]
    },
    {
      "cell_type": "markdown",
      "metadata": {
        "id": "iv3EH-e6l6-M",
        "colab_type": "text"
      },
      "source": [
        "### Understanding the Distribution\n",
        "\n",
        "Plotting to check if the hands do appear in the order of expected rarity of the labels were shuffled."
      ]
    },
    {
      "cell_type": "code",
      "metadata": {
        "id": "rzI-GPM8mOO8",
        "colab_type": "code",
        "outputId": "67a6bdcc-ba96-461e-e36e-aa8c0456921a",
        "colab": {
          "base_uri": "https://localhost:8080/",
          "height": 279
        }
      },
      "source": [
        "import seaborn as sns\n",
        "sns.distplot(train_data.label, kde=False).set_yscale('log')"
      ],
      "execution_count": 0,
      "outputs": [
        {
          "output_type": "display_data",
          "data": {
            "image/png": "[encoded data removed]",
            "text/plain": [
              "<Figure size 432x288 with 1 Axes>"
            ]
          },
          "metadata": {
            "tags": [],
            "needs_background": "light"
          }
        }
      ]
    },
    {
      "cell_type": "markdown",
      "metadata": {
        "id": "YsmS-8CY9npo",
        "colab_type": "text"
      },
      "source": [
        "# Core Logic\n",
        "\n",
        "Defining the function to indentify the hand."
      ]
    },
    {
      "cell_type": "markdown",
      "metadata": {
        "id": "uZSW6140NCo9",
        "colab_type": "text"
      },
      "source": [
        "## Implementation"
      ]
    },
    {
      "cell_type": "code",
      "metadata": {
        "id": "BXeKQzv76HOp",
        "colab_type": "code",
        "colab": {}
      },
      "source": [
        "def get_hand_from_row(row):\n",
        "    index = sorted([row.C1, row.C2, row.C3, row.C4, row.C5])\n",
        "    suits = set([row.S1, row.S2, row.S3, row.S4, row.S5])\n",
        "    count_of_index = [index.count(i) for i in range(1, 13 + 1)]\n",
        "\n",
        "    of_a_kind = 0\n",
        "    for count in count_of_index:\n",
        "        if count == 4: of_a_kind = 5\n",
        "        elif count == 3 and of_a_kind == 1: of_a_kind = 4\n",
        "        elif count == 2 and of_a_kind == 3: of_a_kind = 4\n",
        "        elif count == 2 and of_a_kind == 1: of_a_kind = 2\n",
        "        elif count == 3 and of_a_kind == 0: of_a_kind = 3\n",
        "        elif count == 2 and of_a_kind == 0: of_a_kind = 1\n",
        "\n",
        "    flush = len(suits) == 1\n",
        "    straight = index == [min(index) + i for i in range(5)]\n",
        "    royal = index == [1, 10, 11, 12, 13]\n",
        "\n",
        "    if flush and royal: label = 9 # Royal Flush\n",
        "    elif flush and straight: label = 8 # Straight Flush\n",
        "    elif of_a_kind == 5: label = 7 # Four of a Kind\n",
        "    elif of_a_kind == 4: label = 6 # Full House\n",
        "    elif flush: label = 5 # Flush\n",
        "    elif straight or royal: label = 4 # Straight\n",
        "    elif of_a_kind == 3: label = 3 # Three of a Kind\n",
        "    elif of_a_kind == 2: label = 2 # Two Pairs\n",
        "    elif of_a_kind == 1: label = 1 # Pair\n",
        "    else: label = 0 # High Card\n",
        "\n",
        "    return label"
      ],
      "execution_count": 0,
      "outputs": []
    },
    {
      "cell_type": "markdown",
      "metadata": {
        "id": "mrjG7Hp3-XnT",
        "colab_type": "text"
      },
      "source": [
        "And now we check if our function works perfectly for the entire training dataset."
      ]
    },
    {
      "cell_type": "markdown",
      "metadata": {
        "id": "ZH36NxtqNFxO",
        "colab_type": "text"
      },
      "source": [
        "## Testing"
      ]
    },
    {
      "cell_type": "code",
      "metadata": {
        "id": "Iq6d_W4OncQa",
        "colab_type": "code",
        "outputId": "50d93cea-ac42-4b60-93fb-24b5c7dc422d",
        "colab": {
          "base_uri": "https://localhost:8080/",
          "height": 187
        }
      },
      "source": [
        "for idx, row in train_data.iterrows():\n",
        "    if (idx + 1) % 100000 == 0:\n",
        "        print('.')\n",
        "    elif (idx + 1) % 1000 == 0:\n",
        "        print('.', end='') \n",
        "\n",
        "    label = get_hand_from_row(row)\n",
        "    if label != row.label:\n",
        "        print(label, row.label)\n",
        "        print(cards)\n",
        "        if input().strip() != 'y':\n",
        "            break"
      ],
      "execution_count": 0,
      "outputs": [
        {
          "output_type": "stream",
          "text": [
            "....................................................................................................\n",
            "....................................................................................................\n",
            "....................................................................................................\n",
            "....................................................................................................\n",
            "....................................................................................................\n",
            "....................................................................................................\n",
            "....................................................................................................\n",
            "....................................................................................................\n",
            "....................................................................................................\n",
            "....................................................................................................\n"
          ],
          "name": "stdout"
        }
      ]
    },
    {
      "cell_type": "markdown",
      "metadata": {
        "id": "coe1BSCfhXTj",
        "colab_type": "text"
      },
      "source": [
        "# Make Final Predictions\n",
        "We use the same metrics as that will be used for the test set.  \n",
        "[F1 score](https://en.wikipedia.org/wiki/F1_score) are the metrics for this challenge"
      ]
    },
    {
      "cell_type": "markdown",
      "metadata": {
        "id": "Fv0k7A0XhXTs",
        "colab_type": "text"
      },
      "source": [
        "## Load Test Set\n",
        "Load the test data now"
      ]
    },
    {
      "cell_type": "code",
      "metadata": {
        "id": "1-1UhoswhXTt",
        "colab_type": "code",
        "colab": {}
      },
      "source": [
        "final_test_path = \"test.csv\"\n",
        "final_test = pd.read_csv(final_test_path)"
      ],
      "execution_count": 0,
      "outputs": []
    },
    {
      "cell_type": "markdown",
      "metadata": {
        "id": "nxv6ExqyhXTw",
        "colab_type": "text"
      },
      "source": [
        "## Predict Test Set\n",
        "Time for the moment of truth! Predict on test set and time to make the submission."
      ]
    },
    {
      "cell_type": "code",
      "metadata": {
        "id": "iOvqcPJIhXTx",
        "colab_type": "code",
        "outputId": "3d614258-b3d9-4848-e8b4-411c97e26ad2",
        "colab": {
          "base_uri": "https://localhost:8080/",
          "height": 34
        }
      },
      "source": [
        "submission = []\n",
        "for idx, row in final_test.iterrows():\n",
        "    if (idx + 1) % 100000 == 0:\n",
        "        print('.')\n",
        "    elif (idx + 1) % 1000 == 0:\n",
        "        print('.', end='') \n",
        "\n",
        "    submission.append(get_hand_from_row(row))\n",
        "\n",
        "submission = np.array(submission)"
      ],
      "execution_count": 0,
      "outputs": [
        {
          "output_type": "stream",
          "text": [
            "........................."
          ],
          "name": "stdout"
        }
      ]
    },
    {
      "cell_type": "markdown",
      "metadata": {
        "id": "e2tUZOB6hXT0",
        "colab_type": "text"
      },
      "source": [
        "## Save the prediction to csv"
      ]
    },
    {
      "cell_type": "code",
      "metadata": {
        "id": "Z3Lb61aehXT1",
        "colab_type": "code",
        "colab": {}
      },
      "source": [
        "submission = pd.DataFrame(submission)\n",
        "submission.to_csv('/tmp/submission.csv',header=['label'],index=False)"
      ],
      "execution_count": 0,
      "outputs": []
    },
    {
      "cell_type": "markdown",
      "metadata": {
        "id": "rDLufH_RhXT4",
        "colab_type": "text"
      },
      "source": [
        "Note: Do take a look at the submission format.The submission file should contain a header.For eg here it is \"label\". "
      ]
    },
    {
      "cell_type": "markdown",
      "metadata": {
        "id": "omspxqFnhXT5",
        "colab_type": "text"
      },
      "source": [
        "## Save it in correct format\n",
        "\n",
        "To download the generated csv in collab run the below command"
      ]
    },
    {
      "cell_type": "code",
      "metadata": {
        "id": "HbUZrVVvhXT5",
        "colab_type": "code",
        "colab": {}
      },
      "source": [
        "from google.colab import files\n",
        "files.download('/tmp/submission.csv') "
      ],
      "execution_count": 0,
      "outputs": []
    },
    {
      "cell_type": "markdown",
      "metadata": {
        "id": "uuSQ7dv9hXT9",
        "colab_type": "text"
      },
      "source": [
        "Go to [platform](https://www.aicrowd.com/challenges/aicrowd-blitz-may-2020/problems/pkhnd). Participate in the challenge and submit the submission.csv generated."
      ]
    }
  ]
}